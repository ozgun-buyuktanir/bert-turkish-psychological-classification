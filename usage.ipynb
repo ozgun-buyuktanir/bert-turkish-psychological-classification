{
 "cells": [
  {
   "cell_type": "code",
   "execution_count": 2,
   "metadata": {},
   "outputs": [
    {
     "name": "stderr",
     "output_type": "stream",
     "text": [
      "/home/querriqe/miniconda3/lib/python3.11/site-packages/huggingface_hub/file_download.py:1132: FutureWarning: `resume_download` is deprecated and will be removed in version 1.0.0. Downloads always resume when possible. If you want to force a new download, use `force_download=True`.\n",
      "  warnings.warn(\n"
     ]
    },
    {
     "name": "stdout",
     "output_type": "stream",
     "text": [
      "######## Tahmin Edilecek Metin ########\n",
      "\n",
      "Uzun süren ilişkiden aldatılma sonucunda ayrıldım. bunun üstüne kendimi boşlukta hissediyorum ve çok üzgünüm. Aylar geçti ama halen kendimi toparlayamadım. \n",
      "\n",
      "######## Tahmin Sonuçları ########\n",
      "\n",
      "Travmaya Bağlı Bozukluklar: %65.79\n",
      "Aile ve İlişki Sorunları: %17.71\n",
      "Cinsel Bozukluklar: %2.3\n"
     ]
    }
   ],
   "source": [
    "from transformers import AutoTokenizer, BertForSequenceClassification\n",
    "import torch\n",
    "from torch.nn.functional import softmax\n",
    "\n",
    "label_map = { 0: \"İntihar Düşüncesi\", 1: \"Yeme Bozuklukları\", 2:\"Uyku Bozuklukları\", 3:\"Cinsel Bozukluklar\", 4: \"Bağımlılıklar\",5 : \"Öfke Kontrol Bozuklukları\",\n",
    "              6: \"Borderline\", 7: \"Psikomatik Bozukluklar\", 8: \"OKB\", 9: \"Çocuklarda ve Yetişkinlerde Uyum Problemleri\", 10: \"Depresyon Vb.\", 11: \"Aile ve İlişki Sorunları\",\n",
    "              12: \"Spor Psikolojisi\", 13: \"Hiperaktivite ve Nerogelişimsel Bzk.\", 14: \"Travmaya Bağlı Bozukluklar\", 15: \"Sapkınlıklar\"}\n",
    "\n",
    "tokenizer = AutoTokenizer.from_pretrained(\"dbmdz/bert-base-turkish-cased\")\n",
    "model = BertForSequenceClassification.from_pretrained('atakanyilmaz/bert-turkish-psychological-classification')\n",
    "\n",
    "\n",
    "text = \"Uzun süren ilişkiden aldatılma sonucunda ayrıldım. bunun üstüne kendimi boşlukta hissediyorum ve çok üzgünüm. Aylar geçti ama halen kendimi toparlayamadım.\"\n",
    "\n",
    "\n",
    "inputs = tokenizer(text, return_tensors=\"pt\", padding=True, truncation=True)\n",
    "\n",
    "\n",
    "model.eval()\n",
    "\n",
    "\n",
    "with torch.no_grad():\n",
    "\toutputs = model(**inputs)\n",
    "\n",
    "\n",
    "logits = outputs.logits\n",
    "\n",
    "\n",
    "scores = softmax(logits, dim=1)\n",
    "\n",
    "\n",
    "num_labels = model.config.num_labels\n",
    "\n",
    "top_scores, top_indices = torch.topk(scores, 15)\n",
    "\n",
    "\n",
    "print(\"######## Tahmin Edilecek Metin ########\\n\")\n",
    "print(text,\"\\n\")\n",
    "print(\"######## Tahmin Sonuçları ########\\n\")\n",
    "for i in range(3):\n",
    "    label_index = top_indices[0][i].item()\n",
    "    label_description = label_map.get(label_index, \"Bilinmeyen\")\n",
    "    print(f\"{label_description}: %{round(top_scores[0][i].item()*100,2)}\")"
   ]
  },
  {
   "cell_type": "code",
   "execution_count": 4,
   "metadata": {},
   "outputs": [
    {
     "name": "stdout",
     "output_type": "stream",
     "text": [
      "[{'label': 'LABEL_14', 'score': 0.6578572988510132}]\n"
     ]
    }
   ],
   "source": [
    "from transformers import pipeline\n",
    "\n",
    "model = BertForSequenceClassification.from_pretrained('atakanyilmaz/bert-turkish-psychological-classification')\n",
    "tokenizer = AutoTokenizer.from_pretrained(\"dbmdz/bert-base-turkish-cased\")\n",
    "\n",
    "nlp = pipeline(\"sentiment-analysis\", model=model, tokenizer=tokenizer, device=0)\n",
    "\n",
    "result = nlp(\"Uzun süren ilişkiden aldatılma sonucunda ayrıldım. bunun üstüne kendimi boşlukta hissediyorum ve çok üzgünüm. Aylar geçti ama halen kendimi toparlayamadım.\")\n",
    "\n",
    "print(result)"
   ]
  }
 ],
 "metadata": {
  "kernelspec": {
   "display_name": "base",
   "language": "python",
   "name": "python3"
  },
  "language_info": {
   "codemirror_mode": {
    "name": "ipython",
    "version": 3
   },
   "file_extension": ".py",
   "mimetype": "text/x-python",
   "name": "python",
   "nbconvert_exporter": "python",
   "pygments_lexer": "ipython3",
   "version": "3.11.4"
  }
 },
 "nbformat": 4,
 "nbformat_minor": 2
}
